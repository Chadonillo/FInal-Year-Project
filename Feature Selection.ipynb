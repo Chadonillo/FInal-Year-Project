{
 "cells": [
  {
   "cell_type": "code",
   "execution_count": null,
   "id": "flush-client",
   "metadata": {
    "code_folding": []
   },
   "outputs": [],
   "source": [
    "#import libraries\n",
    "import numpy as np\n",
    "from numpy import set_printoptions\n",
    "##Costume Library to manipluate data and add indicators\n",
    "from Libraries.Utils import DataHandler\n",
    "import pandas as pd\n",
    "from sklearn.ensemble import ExtraTreesClassifier\n",
    "from sklearn.utils import class_weight"
   ]
  },
  {
   "cell_type": "code",
   "execution_count": null,
   "id": "extreme-opening",
   "metadata": {},
   "outputs": [],
   "source": [
    "dataHandler = DataHandler()"
   ]
  },
  {
   "cell_type": "code",
   "execution_count": null,
   "id": "optional-sunset",
   "metadata": {},
   "outputs": [],
   "source": [
    "##Settings\n",
    "timeFrame = '5Min'\n",
    "pair = 'GBPUSD'\n",
    "trade_lenght = 6"
   ]
  },
  {
   "cell_type": "code",
   "execution_count": null,
   "id": "adequate-holmes",
   "metadata": {
    "scrolled": false
   },
   "outputs": [],
   "source": [
    "stockData = dataHandler.getFullData(pair, timeFrame)\n",
    "dataHandler.addAllIndicators(stockData)\n",
    "dataHandler.addLabels(stockData, trade_lenght)\n",
    "dataHandler.featureSelection(stockData)\n",
    "dataHandler.printDirectionAmount(stockData)\n",
    "x = stockData[stockData.columns[:-2]].values\n",
    "y = stockData[stockData.columns[-1:]].values\n",
    "y = y.reshape(y.shape[0])\n",
    "fNames = stockData.columns[:-1].values.astype('U')\n",
    "print(\"Features:\", x.shape[1])"
   ]
  },
  {
   "cell_type": "code",
   "execution_count": null,
   "id": "prescription-phoenix",
   "metadata": {},
   "outputs": [],
   "source": [
    "fNames"
   ]
  },
  {
   "cell_type": "code",
   "execution_count": null,
   "id": "cultural-senegal",
   "metadata": {},
   "outputs": [],
   "source": [
    "class_weights = dict(zip([0,1,2], class_weight.compute_class_weight('balanced', np.unique(y), y)))\n",
    "class_weights"
   ]
  },
  {
   "cell_type": "code",
   "execution_count": null,
   "id": "recreational-transmission",
   "metadata": {},
   "outputs": [],
   "source": [
    "set_printoptions(precision=6, suppress=True)\n",
    "model = ExtraTreesClassifier(class_weight=class_weights)\n",
    "model.fit(x, y)\n",
    "scores = model.feature_importances_\n",
    "featureScoresTrees = {A: B for A, B in zip(fNames, scores)}\n",
    "featureScoresTrees = {k: v for k, v in sorted(featureScoresTrees.items(), key=lambda item: item[1], reverse=True)}\n",
    "dfScores = pd.DataFrame(list(featureScoresTrees.items()), columns=[\"Indicator\", \"Score\"])\n",
    "dfScores.set_index('Indicator', inplace=True)\n",
    "dfScores.head(60)"
   ]
  },
  {
   "cell_type": "code",
   "execution_count": null,
   "id": "continuing-mortality",
   "metadata": {},
   "outputs": [],
   "source": [
    "len(dfScores)"
   ]
  },
  {
   "cell_type": "code",
   "execution_count": null,
   "id": "standard-satin",
   "metadata": {},
   "outputs": [],
   "source": []
  }
 ],
 "metadata": {
  "kernelspec": {
   "display_name": "Python 3",
   "language": "python",
   "name": "python3"
  },
  "language_info": {
   "codemirror_mode": {
    "name": "ipython",
    "version": 3
   },
   "file_extension": ".py",
   "mimetype": "text/x-python",
   "name": "python",
   "nbconvert_exporter": "python",
   "pygments_lexer": "ipython3",
   "version": "3.8.5"
  }
 },
 "nbformat": 4,
 "nbformat_minor": 5
}
