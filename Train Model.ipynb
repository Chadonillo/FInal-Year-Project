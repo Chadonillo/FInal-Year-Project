{
 "cells": [
  {
   "cell_type": "code",
   "execution_count": 1,
   "id": "second-focus",
   "metadata": {
    "code_folding": []
   },
   "outputs": [],
   "source": [
    "#import libraries\n",
    "import numpy as np\n",
    "\n",
    "##Costume Library to manipluate data and add indicators\n",
    "from Libraries.Utils import DataHandler\n",
    "from Libraries.KerasCustom import *\n",
    "from IPython.display import Markdown, display\n",
    "\n",
    "##Artificial Intelligence Library\n",
    "from tensorflow.keras.models import Sequential\n",
    "from tensorflow.keras.utils import plot_model\n",
    "from tensorflow.keras.layers import Dense, LSTM, Activation, Dropout, BatchNormalization\n",
    "from tensorflow.keras.optimizers import Adam\n",
    "from tensorflow.keras.callbacks import EarlyStopping, ModelCheckpoint, TensorBoard, ReduceLROnPlateau\n",
    "from tensorflow.keras.backend import clear_session\n",
    "import tensorflow as tf\n",
    "import gc\n",
    "\n",
    "physical_devices = tf.config.experimental.list_physical_devices('GPU')\n",
    "for i in range(len(physical_devices)):\n",
    "    tf.config.experimental.set_memory_growth(physical_devices[i], True)"
   ]
  },
  {
   "cell_type": "code",
   "execution_count": 2,
   "id": "systematic-indonesian",
   "metadata": {
    "code_folding": [
     0
    ]
   },
   "outputs": [],
   "source": [
    "def printmd(string):\n",
    "    display(Markdown(string))"
   ]
  },
  {
   "cell_type": "code",
   "execution_count": 3,
   "id": "synthetic-tractor",
   "metadata": {
    "code_folding": [
     0
    ]
   },
   "outputs": [],
   "source": [
    "def countUnique(a, oneHot = True):\n",
    "    retStr = \"\"\n",
    "    unique, counts = np.unique(a, return_counts=True, axis=0)\n",
    "    for i in range(len(unique)):\n",
    "        if oneHot:\n",
    "            retStr += str(np.argmax(unique[i])) +\": \"+str(counts[i])+ \", \"\n",
    "        else:\n",
    "            retStr += str(unique[i]) +\": \"+str(counts[i])+ \", \"\n",
    "    return retStr[:-2]"
   ]
  },
  {
   "cell_type": "markdown",
   "id": "fifteen-superintendent",
   "metadata": {},
   "source": [
    "### Create And Compile Model"
   ]
  },
  {
   "cell_type": "code",
   "execution_count": 4,
   "id": "asian-nepal",
   "metadata": {
    "code_folding": [
     0
    ]
   },
   "outputs": [],
   "source": [
    "def createAIModel():\n",
    "    printmd(\"<h3><i><u>AI Creation, Setup and Training</u></i></h3>\")\n",
    "    print(\"Creating AI Model\")\n",
    "    #Create model structure \n",
    "    clear_session()\n",
    "    #Create sequential model\n",
    "    model = Sequential()\n",
    "    #Add layers to NN\n",
    "    model.add(LSTM(100, input_shape=(X_train.shape[1:]), return_sequences=True ))\n",
    "    model.add(Dropout(0.1))\n",
    "    model.add(LSTM(30))\n",
    "    model.add(Dropout(0.1))\n",
    "    model.add(Dense(3, activation = \"softmax\"))\n",
    "    plot_model(model, to_file='model.png',show_shapes=True, show_layer_names=True)\n",
    "    return model"
   ]
  },
  {
   "cell_type": "code",
   "execution_count": 5,
   "id": "colonial-humor",
   "metadata": {
    "code_folding": [
     0
    ]
   },
   "outputs": [],
   "source": [
    "def compileAndOptimizeModel(model, dir_train, dir_test):\n",
    "    print(\"Optimize And Compile Model\")\n",
    "    #Optimize (set learning rate) and complie model \n",
    "    optimizer= Adam(lr=0.001)\n",
    "    model.compile(loss='categorical_crossentropy', optimizer=optimizer, \n",
    "                  metrics=[winMetric(dir_train, dir_test, 0), TradeFrequency(dir_train, dir_test, 0)])\n",
    "    #print (model.summary())\n",
    "    return model"
   ]
  },
  {
   "cell_type": "code",
   "execution_count": 6,
   "id": "crude-constant",
   "metadata": {
    "code_folding": [
     0
    ]
   },
   "outputs": [],
   "source": [
    "def createCallBacks():\n",
    "    print(\"Adding Call Backs\")\n",
    "    #Callback functions \n",
    "    path_checkpoint = \"Models/\"+pair+\"_\"+timeFrame+\".h5\"\n",
    "    callback_checkpoint = ModelCheckpoint(filepath=path_checkpoint,\n",
    "                                          monitor='winRatio',\n",
    "                                          verbose=1,\n",
    "                                          save_best_only=True,\n",
    "                                          mode = \"max\")\n",
    "\n",
    "    #callback_tensorboard = TensorBoard(log_dir='./TensorBoard_logs/',\n",
    "    #                                   histogram_freq=0,\n",
    "    #                                   write_graph=False)\n",
    "\n",
    "\n",
    "    callback_early_stopping = EarlyStopping(monitor='winRatio',\n",
    "                                            patience=4, verbose=1)\n",
    "\n",
    "    callback_reduce_lr = ReduceLROnPlateau(monitor='winRatio',\n",
    "                                           factor=0.1,\n",
    "                                           min_lr=1e-4,\n",
    "                                           patience=2,\n",
    "                                           verbose=1)\n",
    "    callbacks = [callback_checkpoint, callback_early_stopping, callback_reduce_lr]\n",
    "    #callbacks = [callback_checkpoint]\n",
    "    return callbacks"
   ]
  },
  {
   "cell_type": "markdown",
   "id": "satellite-palmer",
   "metadata": {},
   "source": [
    "### Train Models"
   ]
  },
  {
   "cell_type": "code",
   "execution_count": 7,
   "id": "inclusive-grace",
   "metadata": {
    "code_folding": [
     0
    ]
   },
   "outputs": [],
   "source": [
    "def trainModel(market, model, train_x, train_y, validation_x=None, validation_y=None, callbacks=None, classWeights=None):\n",
    "    # Train model\n",
    "    val = (validation_x, validation_y)\n",
    "    try:\n",
    "        if validation_x==None:\n",
    "            val = None\n",
    "    except:\n",
    "        pass\n",
    "    history = model.fit(\n",
    "        train_x, train_y,\n",
    "        batch_size=batch_size,\n",
    "        epochs=epochs,\n",
    "        validation_data=val,\n",
    "        callbacks=callbacks,\n",
    "        class_weight = classWeights\n",
    "    )\n",
    "    return history, model"
   ]
  },
  {
   "cell_type": "code",
   "execution_count": 8,
   "id": "thick-bulletin",
   "metadata": {},
   "outputs": [],
   "source": [
    "dataHandler = DataHandler()"
   ]
  },
  {
   "cell_type": "code",
   "execution_count": 9,
   "id": "original-conspiracy",
   "metadata": {
    "code_folding": []
   },
   "outputs": [],
   "source": [
    "# Settings\n",
    "timeFrame = '15Min'\n",
    "pair = 'USDJPY'          #['GBPUSD','EURUSD','USDCHF','USDJPY']\n",
    "\n",
    "trade_lenght = 3\n",
    "look_back = 96\n",
    "\n",
    "batch_size = 64\n",
    "testSplitPCT = 0\n",
    "epochs = 10\n",
    "\n",
    "loadModel = False"
   ]
  },
  {
   "cell_type": "code",
   "execution_count": 10,
   "id": "desperate-passion",
   "metadata": {
    "code_folding": [],
    "scrolled": true
   },
   "outputs": [
    {
     "name": "stdout",
     "output_type": "stream",
     "text": [
      "Getting Data.\n",
      "Number of data points: 443555\n",
      "Adding Indicators.\n",
      "Adding Labels.\n",
      "Hold Trades:  431666\n",
      "Call Trades:  5352\n",
      "Put Trades:   6474\n"
     ]
    }
   ],
   "source": [
    "# Get Data And Add Labels\n",
    "stockData = dataHandler.getFullData(pair, timeFrame)\n",
    "dataHandler.addAllIndicators(stockData)\n",
    "dataHandler.addLabels(stockData, trade_lenght)\n",
    "dataHandler.featureSelection(stockData)\n",
    "\n",
    "#start_date = '01-01-2003'\n",
    "#end_date = '01-01-2006'\n",
    "#mask = (stockData.index > start_date) & (stockData.index <= end_date)\n",
    "#stockData = stockData.loc[mask]\n",
    "\n",
    "dataHandler.printDirectionAmount(stockData)"
   ]
  },
  {
   "cell_type": "code",
   "execution_count": 11,
   "id": "stone-yahoo",
   "metadata": {
    "code_folding": [
     0,
     1,
     16
    ],
    "scrolled": false
   },
   "outputs": [
    {
     "name": "stdout",
     "output_type": "stream",
     "text": [
      "Train Start: 2003-05-05 15:45:00 Train End: 2021-02-26 21:45:00\n",
      "\n",
      "Preprocessing your pandas dataframe:\n",
      "\tReshapping Data To Numpy Arrays For Model.\n",
      "\tScaling dataset.\n",
      "\tAdding LSTM look back period.\n",
      "\tOversampling to balance dataset.\n",
      "\tSaving to numpy arrays. (RAM Intensive)\n",
      "\n",
      "Class Weights: {0: 0.4495104677096656, 1: 0.543746406568082, 2: 0.006743125722252184}\n",
      "X_train: (443396, 96, 30)  y_train: (443396, 3)  Class distribution: 2: 431570, 1: 5352, 0: 6474\n"
     ]
    },
    {
     "data": {
      "text/plain": [
       "0"
      ]
     },
     "execution_count": 11,
     "metadata": {},
     "output_type": "execute_result"
    }
   ],
   "source": [
    "# Process Data\n",
    "if testSplitPCT>0:\n",
    "    df_train, df_test = dataHandler.splitDataFrame(stockData, testSplitPCT)\n",
    "    print(\"Train Start:\", df_train.index[0], \"Train End:\", df_train.index[-1])\n",
    "    print(\"Test Start:\", df_test.index[0], \"Test End:\", df_test.index[-1])\n",
    "    print()\n",
    "    X_train, y_train, acc_dir_train =  dataHandler.preprocess_df(df_train, pair, timeFrame, look_back)\n",
    "    X_test, y_test, acc_dir_test = dataHandler.preprocess_df(df_test, pair, timeFrame, look_back)\n",
    "    classWeights = dataHandler.getLabelWeights(y_train)\n",
    "    y_train = dataHandler.oneHotEncode(y_train)\n",
    "    y_test = dataHandler.oneHotEncode(y_test)\n",
    "    print()\n",
    "    print(\"Class Weights:\", classWeights)\n",
    "    print(\"X_train:\", X_train.shape, \" y_train:\", y_train.shape, \" Class distribution:\" , countUnique(y_train))\n",
    "    print(\"X_test:\", X_test.shape, \" y_test:\", y_test.shape, \" Class distribution:\" , countUnique(y_test))\n",
    "    \n",
    "else:\n",
    "    df_train = stockData\n",
    "    print(\"Train Start:\", df_train.index[0], \"Train End:\", df_train.index[-1])\n",
    "    print()\n",
    "    X_train, y_train, acc_dir_train =  dataHandler.preprocess_df(df_train, pair, timeFrame, look_back)\n",
    "    X_test, y_test, acc_dir_test = None, None, None\n",
    "    classWeights = dataHandler.getLabelWeights(y_train)\n",
    "    y_train = dataHandler.oneHotEncode(y_train)\n",
    "    y_test = None\n",
    "    print()\n",
    "    print(\"Class Weights:\", classWeights)\n",
    "    print(\"X_train:\", X_train.shape, \" y_train:\", y_train.shape, \" Class distribution:\" , countUnique(y_train))\n",
    "\n",
    "del df_train, stockData\n",
    "gc.collect()"
   ]
  },
  {
   "cell_type": "code",
   "execution_count": 12,
   "id": "spread-couple",
   "metadata": {},
   "outputs": [],
   "source": [
    "classWeightsHold = classWeights[2]"
   ]
  },
  {
   "cell_type": "code",
   "execution_count": 13,
   "id": "hundred-rider",
   "metadata": {},
   "outputs": [
    {
     "name": "stdout",
     "output_type": "stream",
     "text": [
      "Class Weights: {0: 0.4495104677096656, 1: 0.543746406568082, 2: 0.006743125722252184}\n"
     ]
    }
   ],
   "source": [
    "classWeights[2] = classWeightsHold*1\n",
    "print(\"Class Weights:\", classWeights)"
   ]
  },
  {
   "cell_type": "code",
   "execution_count": 14,
   "id": "moral-convertible",
   "metadata": {
    "code_folding": [],
    "scrolled": true
   },
   "outputs": [
    {
     "data": {
      "text/markdown": [
       "<h3><i><u>AI Creation, Setup and Training</u></i></h3>"
      ],
      "text/plain": [
       "<IPython.core.display.Markdown object>"
      ]
     },
     "metadata": {},
     "output_type": "display_data"
    },
    {
     "name": "stdout",
     "output_type": "stream",
     "text": [
      "Creating AI Model\n",
      "Optimize And Compile Model\n",
      "Adding Call Backs\n",
      "Epoch 1/10\n",
      "6929/6929 [==============================] - 163s 23ms/step - loss: 0.0218 - winRatio: 0.4966 - NoTradesInBatch: 44.0483\n",
      "\n",
      "Epoch 00001: winRatio improved from -inf to 0.49697, saving model to Models\\USDJPY_15Min.h5\n",
      "Epoch 2/10\n",
      "6929/6929 [==============================] - 162s 23ms/step - loss: 0.0215 - winRatio: 0.5017 - NoTradesInBatch: 40.9775\n",
      "\n",
      "Epoch 00002: winRatio improved from 0.49697 to 0.50203, saving model to Models\\USDJPY_15Min.h5\n",
      "Epoch 3/10\n",
      "6929/6929 [==============================] - 152s 22ms/step - loss: 0.0214 - winRatio: 0.5026 - NoTradesInBatch: 36.1179\n",
      "\n",
      "Epoch 00003: winRatio improved from 0.50203 to 0.50276, saving model to Models\\USDJPY_15Min.h5\n",
      "\n",
      "Epoch 00003: ReduceLROnPlateau reducing learning rate to 0.00010000000474974513.\n",
      "Epoch 4/10\n",
      "6929/6929 [==============================] - 166s 24ms/step - loss: 0.0214 - winRatio: 0.5031 - NoTradesInBatch: 37.8350\n",
      "\n",
      "Epoch 00004: winRatio improved from 0.50276 to 0.50314, saving model to Models\\USDJPY_15Min.h5\n",
      "Epoch 5/10\n",
      "6929/6929 [==============================] - 150s 22ms/step - loss: 0.0213 - winRatio: 0.5033 - NoTradesInBatch: 36.4553\n",
      "\n",
      "Epoch 00005: winRatio improved from 0.50314 to 0.50330, saving model to Models\\USDJPY_15Min.h5\n",
      "\n",
      "Epoch 00005: ReduceLROnPlateau reducing learning rate to 0.0001.\n",
      "Epoch 00005: early stopping\n"
     ]
    }
   ],
   "source": [
    "# Run Model\n",
    "if loadModel:\n",
    "    from tensorflow.keras.models import load_model\n",
    "    model = load_model(\"Models/\"+pair+\"_\"+timeFrame+\".h5\")\n",
    "    modelcallbacks = createCallBacks()\n",
    "    hist, model = trainModel(pair, model, modelcallbacks, X_train, y_train, X_test, y_test)\n",
    "\n",
    "else:\n",
    "    #SetUp AI Model\n",
    "    model = createAIModel()\n",
    "    model = compileAndOptimizeModel(model, acc_dir_train, acc_dir_test)\n",
    "    modelcallbacks = createCallBacks()\n",
    "\n",
    "    #Train Model\n",
    "    hist, model = trainModel(pair, model, X_train, y_train, X_test, y_test, modelcallbacks, classWeights)\n",
    "    #model.save(\"Models/\"+pair+\"_\"+timeFrame+\".h5\")"
   ]
  },
  {
   "cell_type": "markdown",
   "id": "narrow-friendship",
   "metadata": {},
   "source": [
    "### Test"
   ]
  },
  {
   "cell_type": "code",
   "execution_count": 15,
   "id": "excessive-conflict",
   "metadata": {},
   "outputs": [
    {
     "name": "stdout",
     "output_type": "stream",
     "text": [
      "dict_keys(['loss', 'winRatio', 'NoTradesInBatch', 'lr'])\n"
     ]
    }
   ],
   "source": [
    "import matplotlib.pyplot as plt\n",
    "print(hist.history.keys())"
   ]
  },
  {
   "cell_type": "code",
   "execution_count": 16,
   "id": "subject-equilibrium",
   "metadata": {
    "code_folding": [
     0
    ]
   },
   "outputs": [
    {
     "data": {
      "image/png": "[encoded data removed]",
      "text/plain": [
       "<Figure size 432x288 with 1 Axes>"
      ]
     },
     "metadata": {
      "needs_background": "light"
     },
     "output_type": "display_data"
    }
   ],
   "source": [
    "# summarize history for accuracy\n",
    "plt.plot(hist.history['winRatio'])\n",
    "plt.title('model accuracy')\n",
    "plt.ylabel('accuracy')\n",
    "plt.xlabel('epoch')\n",
    "plt.legend(['train'], loc='upper left')\n",
    "plt.show()"
   ]
  },
  {
   "cell_type": "code",
   "execution_count": 17,
   "id": "weekly-eligibility",
   "metadata": {
    "code_folding": [
     0
    ]
   },
   "outputs": [
    {
     "data": {
      "image/png": "[encoded data removed]",
      "text/plain": [
       "<Figure size 432x288 with 1 Axes>"
      ]
     },
     "metadata": {
      "needs_background": "light"
     },
     "output_type": "display_data"
    }
   ],
   "source": [
    "# summarize history for loss\n",
    "plt.plot(hist.history['loss'])\n",
    "plt.title('model loss')\n",
    "plt.ylabel('loss')\n",
    "plt.xlabel('epoch')\n",
    "plt.legend(['train'], loc='upper left')\n",
    "plt.show()"
   ]
  }
 ],
 "metadata": {
  "kernelspec": {
   "display_name": "Python 3",
   "language": "python",
   "name": "python3"
  },
  "language_info": {
   "codemirror_mode": {
    "name": "ipython",
    "version": 3
   },
   "file_extension": ".py",
   "mimetype": "text/x-python",
   "name": "python",
   "nbconvert_exporter": "python",
   "pygments_lexer": "ipython3",
   "version": "3.8.5"
  }
 },
 "nbformat": 4,
 "nbformat_minor": 5
}
