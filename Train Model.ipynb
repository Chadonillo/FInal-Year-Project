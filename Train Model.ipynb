{
 "cells": [
  {
   "cell_type": "markdown",
   "id": "forced-thanks",
   "metadata": {
    "heading_collapsed": true
   },
   "source": [
    "### Libraries"
   ]
  },
  {
   "cell_type": "code",
   "execution_count": null,
   "id": "second-focus",
   "metadata": {
    "code_folding": [],
    "hidden": true
   },
   "outputs": [],
   "source": [
    "from IPython.core.display import display, HTML\n",
    "display(HTML(\"<style>.container { width:90% !important; }</style>\"))\n",
    "#import libraries\n",
    "import pandas as pd\n",
    "import matplotlib.pyplot as plt\n",
    "\n",
    "import math, random, time, warnings, gc\n",
    "from collections import deque\n",
    "import numpy as np\n",
    "\n",
    "\n",
    "##Costume Library to manipluate data and add indicators\n",
    "from Libraries.Utils import DataHandler\n",
    "from IPython.display import Markdown, display\n",
    "\n",
    "##Artificial Intelligence  Library\n",
    "from tensorflow.keras.models import Sequential, load_model\n",
    "from tensorflow.keras.layers import Dense, LSTM, Activation, Dropout, BatchNormalization\n",
    "from sklearn import preprocessing\n",
    "from sklearn.model_selection import train_test_split\n",
    "from tensorflow.keras.optimizers import Adam\n",
    "from tensorflow.keras.callbacks import EarlyStopping, ModelCheckpoint, TensorBoard, ReduceLROnPlateau\n",
    "from tensorflow.keras.losses import mean_squared_logarithmic_error  #logcosh,  #mean_squared_error, \n",
    "from tensorflow.keras.backend import clear_session\n",
    "import tensorflow as tf\n",
    "\n",
    "import plotly as py\n",
    "from plotly.tools import FigureFactory as FF\n",
    "from plotly.graph_objs import Scatter\n",
    "py.offline.init_notebook_mode()\n",
    "\n",
    "physical_devices = tf.config.experimental.list_physical_devices('GPU')\n",
    "tf.config.experimental.set_memory_growth(physical_devices[0], True)"
   ]
  },
  {
   "cell_type": "code",
   "execution_count": null,
   "id": "systematic-indonesian",
   "metadata": {
    "hidden": true
   },
   "outputs": [],
   "source": [
    "def printmd(string):\n",
    "    display(Markdown(string))"
   ]
  },
  {
   "cell_type": "markdown",
   "id": "fifteen-superintendent",
   "metadata": {
    "heading_collapsed": true
   },
   "source": [
    "### Create And Compile Model"
   ]
  },
  {
   "cell_type": "code",
   "execution_count": null,
   "id": "asian-nepal",
   "metadata": {
    "code_folding": [
     0
    ],
    "hidden": true
   },
   "outputs": [],
   "source": [
    "def createAIModel():\n",
    "    printmd(\"<h3><i><u>AI Creation, Setup and Training</u></i></h3>\")\n",
    "    print(\"Creating AI Model\")\n",
    "    #Create model structure \n",
    "    clear_session()\n",
    "    #Create sequential model\n",
    "    model = Sequential()\n",
    "    #Add layers to NN\n",
    "    model.add(LSTM(100, input_shape=(X_train.shape[1:]), return_sequences=True ))\n",
    "    model.add(Dropout(0.25))\n",
    "    model.add(LSTM(200, return_sequences=True))\n",
    "    model.add(Dropout(0.25))\n",
    "    model.add(LSTM(200, return_sequences=True))\n",
    "    model.add(Dropout(0.25))\n",
    "    model.add(LSTM(100, return_sequences=True))\n",
    "    model.add(Dropout(0.25))\n",
    "    model.add(LSTM(50))\n",
    "    model.add(Dropout(0.25))\n",
    "    \n",
    "    model.add(Dense(3, activation = \"softmax\"))\n",
    "    return model"
   ]
  },
  {
   "cell_type": "code",
   "execution_count": null,
   "id": "colonial-humor",
   "metadata": {
    "code_folding": [
     0
    ],
    "hidden": true
   },
   "outputs": [],
   "source": [
    "def compileAndOptimizeModel(model):\n",
    "    print(\"Optimize And Compile Model\")\n",
    "    #Optimize (set learning rate) and complie model \n",
    "    optimizer= Adam(lr=0.001)\n",
    "    model.compile(loss='categorical_crossentropy', optimizer=optimizer, metrics=['accuracy'])\n",
    "    #print (model.summary())\n",
    "    return model"
   ]
  },
  {
   "cell_type": "code",
   "execution_count": null,
   "id": "crude-constant",
   "metadata": {
    "code_folding": [
     0
    ],
    "hidden": true
   },
   "outputs": [],
   "source": [
    "def createCallBacks():\n",
    "    print(\"Adding Call Backs\")\n",
    "    #Callback functions \n",
    "    #path_checkpoint = 'models/RNN_Final-{epoch:02d}-{val_acc:.3f}.model'\n",
    "    #callback_checkpoint = ModelCheckpoint(filepath=path_checkpoint,\n",
    "    #                                      monitor='val_acc',\n",
    "    #                                      verbose=1,\n",
    "    #                                      save_best_only=True,\n",
    "    #                                      mode = \"max\")\n",
    "\n",
    "    #callback_tensorboard = TensorBoard(log_dir='./TensorBoard_logs/',\n",
    "    #                                   histogram_freq=0,\n",
    "    #                                   write_graph=False)\n",
    "\n",
    "\n",
    "    callback_early_stopping = EarlyStopping(monitor='val_loss',\n",
    "                                            patience=2, verbose=1)\n",
    "\n",
    "    callback_reduce_lr = ReduceLROnPlateau(monitor='val_loss',\n",
    "                                           factor=0.1,\n",
    "                                           min_lr=1e-6,\n",
    "                                           patience=1,\n",
    "                                           verbose=1)\n",
    "    callbacks = [callback_early_stopping,\n",
    "                 callback_reduce_lr]\n",
    "    return callbacks"
   ]
  },
  {
   "cell_type": "markdown",
   "id": "satellite-palmer",
   "metadata": {
    "heading_collapsed": true
   },
   "source": [
    "### Train Models"
   ]
  },
  {
   "cell_type": "code",
   "execution_count": null,
   "id": "inclusive-grace",
   "metadata": {
    "code_folding": [
     0
    ],
    "hidden": true
   },
   "outputs": [],
   "source": [
    "def trainModel(market, model, callbacks, train_x, train_y, validation_x, validation_y):\n",
    "    # Train model \n",
    "    history = model.fit(\n",
    "        train_x, train_y,\n",
    "        batch_size=batch_size,\n",
    "        epochs=epochs,\n",
    "        validation_data=(validation_x, validation_y),\n",
    "        callbacks=callbacks\n",
    "    )\n",
    "    # Save model\n",
    "    #model.save(\"models/\"+timeFrame+\"/{}\".format(market))\n",
    "    return history, model"
   ]
  },
  {
   "cell_type": "code",
   "execution_count": null,
   "id": "thick-bulletin",
   "metadata": {
    "hidden": true
   },
   "outputs": [],
   "source": [
    "dataHandler = DataHandler()"
   ]
  },
  {
   "cell_type": "code",
   "execution_count": null,
   "id": "original-conspiracy",
   "metadata": {
    "code_folding": [],
    "hidden": true
   },
   "outputs": [],
   "source": [
    "##Settings\n",
    "timeFrame='15Min'\n",
    "markets=['GBPUSD','EURUSD','USDCHF','USDJPY']\n",
    "trade_Lenght=1\n",
    "n=1\n",
    "\n",
    "##Batch variables\n",
    "batch_size=64\n",
    "minutes_considered = 100\n",
    "\n",
    "##Training split\n",
    "testSplitPCT = 0.05\n",
    "\n",
    "#Model\n",
    "epochs = 1\n",
    "\n",
    "pair = 'EURUSD'"
   ]
  },
  {
   "cell_type": "code",
   "execution_count": null,
   "id": "desperate-passion",
   "metadata": {
    "code_folding": [
     0
    ],
    "hidden": true,
    "scrolled": true
   },
   "outputs": [],
   "source": [
    "#Get Data And Add Labels\n",
    "stockData = dataHandler.getFullData(pair, timeFrame)\n",
    "print (len(stockData))\n",
    "stockData = dataHandler.addAllIndicators(stockData)\n",
    "print (len(stockData))\n",
    "stockData = dataHandler.addAllTheLabels(stockData, n)\n",
    "dataHandler.printDirectionAmount(stockData)\n",
    "\n",
    "x, y = dataHandler.preprocess_df(stockData, pair, timeFrame)\n",
    "X_train, X_test, y_train, y_test = dataHandler.splitDataFrame(x, y, 0.05)\n",
    "X_train, y_train = dataHandler.reshapeData(X_train, y_train)\n",
    "X_test, y_test = dataHandler.reshapeData(X_test, y_test)\n",
    "\n",
    "#SetUp AI Model\n",
    "model = createAIModel()\n",
    "model = compileAndOptimizeModel(model)\n",
    "modelcallbacks = createCallBacks()\n",
    "\n",
    "#Train Model\n",
    "hist, model = trainModel(pair, model, modelcallbacks, X_train, y_train, X_test, y_test)\n",
    "\n",
    "model.save(\"Models/\"+pair+\"_\"+timeFrame+\".h5\")"
   ]
  },
  {
   "cell_type": "markdown",
   "id": "narrow-friendship",
   "metadata": {
    "heading_collapsed": true
   },
   "source": [
    "### Test"
   ]
  },
  {
   "cell_type": "code",
   "execution_count": null,
   "id": "minimal-moldova",
   "metadata": {
    "hidden": true
   },
   "outputs": [],
   "source": [
    "dataHandler = DataHandler()"
   ]
  },
  {
   "cell_type": "code",
   "execution_count": null,
   "id": "czech-alarm",
   "metadata": {
    "hidden": true,
    "scrolled": true
   },
   "outputs": [],
   "source": [
    "pair = 'EURUSD'\n",
    "timeFrame='1Min'\n",
    "start = time.time()\n",
    "stockData = dataHandler.getFullData(pair, timeFrame)\n",
    "end = time.time()\n",
    "print(end - start)\n",
    "\n",
    "print(len(stockData))"
   ]
  },
  {
   "cell_type": "code",
   "execution_count": null,
   "id": "mathematical-entrance",
   "metadata": {
    "hidden": true
   },
   "outputs": [],
   "source": [
    "stockData"
   ]
  },
  {
   "cell_type": "code",
   "execution_count": null,
   "id": "satellite-pakistan",
   "metadata": {
    "hidden": true
   },
   "outputs": [],
   "source": [
    "start = time.time()\n",
    "stockData = dataHandler.addAllIndicators(stockData)\n",
    "end = time.time()\n",
    "print(end - start)\n",
    "\n",
    "print (len(stockData))"
   ]
  },
  {
   "cell_type": "code",
   "execution_count": null,
   "id": "southwest-italian",
   "metadata": {
    "hidden": true
   },
   "outputs": [],
   "source": [
    "stockData"
   ]
  },
  {
   "cell_type": "code",
   "execution_count": null,
   "id": "breathing-tuesday",
   "metadata": {
    "hidden": true
   },
   "outputs": [],
   "source": []
  }
 ],
 "metadata": {
  "kernelspec": {
   "display_name": "Python 3",
   "language": "python",
   "name": "python3"
  },
  "language_info": {
   "codemirror_mode": {
    "name": "ipython",
    "version": 3
   },
   "file_extension": ".py",
   "mimetype": "text/x-python",
   "name": "python",
   "nbconvert_exporter": "python",
   "pygments_lexer": "ipython3",
   "version": "3.8.5"
  }
 },
 "nbformat": 4,
 "nbformat_minor": 5
}
